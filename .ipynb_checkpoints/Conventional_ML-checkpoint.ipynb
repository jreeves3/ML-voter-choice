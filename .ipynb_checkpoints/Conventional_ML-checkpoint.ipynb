{
 "cells": [
  {
   "cell_type": "code",
   "execution_count": 1,
   "metadata": {},
   "outputs": [],
   "source": [
    "import csv\n",
    "import random"
   ]
  },
  {
   "cell_type": "code",
   "execution_count": 51,
   "metadata": {},
   "outputs": [],
   "source": [
    "# candidate info\n",
    "candidate_count = 0\n",
    "candidates = []\n",
    "\n",
    "# ballot mete data\n",
    "total_voter_count = 0\n",
    "total_vote_count = 0\n",
    "unique_order_count = 0\n",
    "\n",
    "# ballot data\n",
    "# map a unique order of ballots to the total count of ballots in this order\n",
    " # format: tuple(first choice,second,third choice...): count\n",
    "ballots = []\n",
    "\n",
    "ballots_size = []\n",
    "\n",
    "with open(\"data/dublin-north.soi\", newline=\"\\n\") as data_file:\n",
    "    data = csv.reader(data_file)\n",
    "    i = 0\n",
    "    for row in data:\n",
    "        if i == 0:\n",
    "            candidate_count = int(row[0])\n",
    "        elif i <= candidate_count:\n",
    "            candidates.append(row[1])\n",
    "        elif i == candidate_count + 1:\n",
    "            total_voter_count = int(row[0])\n",
    "            total_vote_count = int(row[1])\n",
    "            unique_order_count = int(row[2])\n",
    "        else:\n",
    "            ballot = tuple(int(j) for j in row[1:])\n",
    "            ballots.append([ballot, int(row[0])])\n",
    "            ballots_size.append(len(ballot))\n",
    "        i += 1"
   ]
  },
  {
   "cell_type": "code",
   "execution_count": 52,
   "metadata": {},
   "outputs": [],
   "source": [
    "# print(candidate_count)\n",
    "# for key in ballots.keys():\n",
    "#     print(key, ballots[key])\n",
    "#     print(len(key))\n",
    "# for ballot in ballots:\n",
    "#     print(ballot, ballots[ballot])"
   ]
  },
  {
   "cell_type": "code",
   "execution_count": 53,
   "metadata": {},
   "outputs": [],
   "source": [
    "# train model function"
   ]
  },
  {
   "cell_type": "code",
   "execution_count": 54,
   "metadata": {},
   "outputs": [],
   "source": [
    "# Return an order of ballot as a tuple\n",
    "def predict(ballots, target_ballot, model):\n",
    "    # finish this\n",
    "    \n",
    "    ##################### place holder ####################\n",
    "    temp = list(target_ballot)\n",
    "    temp.append(random.randint(1,12))\n",
    "    improved_target_ballot = tuple(temp)\n",
    "    #######################################################\n",
    "    \n",
    "    return improved_target_ballot"
   ]
  },
  {
   "cell_type": "code",
   "execution_count": 65,
   "metadata": {},
   "outputs": [],
   "source": [
    "# this code will modify the data in \"ballots\". Need to rerun above data reading code to restore\n",
    "# data in the dictionary.\n",
    "for i in range(1, candidate_count+1):\n",
    "    # train model for predicting the i+1 preference\n",
    "    model = None\n",
    "    \n",
    "    # update ballots with only i preference\n",
    "#     keys = list(ballots.keys())\n",
    "    for b in range(len(ballots)):\n",
    "        ballot = ballots[b][0]\n",
    "        if len(ballot) == i : #and ballots[b][0] != 0:\n",
    "            improved_ballot = predict(ballots, ballot, model)\n",
    "            ballots[b][0] = improved_ballot\n",
    "#             if improved_ballot in ballots:\n",
    "#                 ballots[improved_ballot] += ballots[ballot]\n",
    "#             else:\n",
    "#                 ballots[improved_ballot] = ballots[ballot]\n",
    "#             del ballots[ballot]\n",
    "#             ballots[ballot] = 0 # set old count to 0, should then have no impact on final vote count\n",
    "# print(ballots)"
   ]
  },
  {
   "cell_type": "code",
   "execution_count": 66,
   "metadata": {},
   "outputs": [],
   "source": [
    "# Return a dictionary mapping candidate number to score.\n",
    "# Calculate candidate scores based on Borda's Rule.\n",
    "def borda_rule_result(ballots,ballots_size=None,score_decay=1):\n",
    "    candidate_scores = dict.fromkeys(range(1, candidate_count+1), 0)\n",
    "#     print(candidate_scores)\n",
    "    for b in range(len(ballots)):\n",
    "        ballot = ballots[b][0]\n",
    "        count = ballots[b][1]\n",
    "        for i in range(candidate_count):\n",
    "            if not ballots_size is None and ballots_size[b] < i:\n",
    "                candidate_scores[ballot[i]] += (candidate_count - 1 - i) * count * score_decay\n",
    "            else:\n",
    "                candidate_scores[ballot[i]] += (candidate_count - 1 - i) * count\n",
    "    return candidate_scores"
   ]
  },
  {
   "cell_type": "code",
   "execution_count": 105,
   "metadata": {},
   "outputs": [
    {
     "name": "stdout",
     "output_type": "stream",
     "text": [
      "{1: 215519, 2: 269525, 3: 172376, 4: 307505, 5: 170518, 6: 300672, 7: 252967, 8: 134348, 9: 317592, 10: 351552, 11: 127823, 12: 279775}\n"
     ]
    }
   ],
   "source": [
    "print(borda_rule_result(ballots, ballots_size,1))"
   ]
  },
  {
   "cell_type": "code",
   "execution_count": 86,
   "metadata": {},
   "outputs": [],
   "source": [
    "def svt(ballots, ballots_size=[],score_decay=1):\n",
    "    elim = [] # eliminated candidates\n",
    "    while True:\n",
    "        candidate_scores = dict.fromkeys(range(1, candidate_count+1), 0)\n",
    "        for b in range(len(ballots)):\n",
    "            ballot = ballots[b][0]\n",
    "            count = ballots[b][1]\n",
    "            for i in range(candidate_count):\n",
    "                if ballot[i] not in elim:\n",
    "                    if not ballots_size is None and ballots_size[b] < i:\n",
    "                        candidate_scores[ballot[i]] += count * score_decay\n",
    "                    else:\n",
    "                        candidate_scores[ballot[i]] += count\n",
    "                    break\n",
    "        least = 0\n",
    "        first = True\n",
    "        for (i,v) in candidate_scores.items():\n",
    "            if i not in elim:\n",
    "                if first:\n",
    "                    least = i\n",
    "                    first = False\n",
    "                elif candidate_scores[least] > v:\n",
    "                    least = i\n",
    "        # eliminate lowest\n",
    "        print(\"Eliminate \"+str(least))\n",
    "        elim.append(least)\n",
    "        # if 1 left, return as winner\n",
    "        if len(elim) == candidate_count-1: return [x for x in range(1,candidate_count+1) if x not in elim][0]"
   ]
  },
  {
   "cell_type": "code",
   "execution_count": 90,
   "metadata": {},
   "outputs": [
    {
     "name": "stdout",
     "output_type": "stream",
     "text": [
      "Eliminate 11\n",
      "Eliminate 8\n",
      "Eliminate 5\n",
      "Eliminate 1\n",
      "Eliminate 3\n",
      "Eliminate 7\n",
      "Eliminate 6\n",
      "Eliminate 2\n",
      "Eliminate 12\n",
      "Eliminate 9\n",
      "Eliminate 4\n",
      "10\n"
     ]
    }
   ],
   "source": [
    "print(svt(ballots, ballots_size, 0))"
   ]
  },
  {
   "cell_type": "code",
   "execution_count": 92,
   "metadata": {},
   "outputs": [],
   "source": [
    "def irv(ballots, ballots_size=[],score_decay=1):\n",
    "    elim = [] # eliminated candidates\n",
    "    while True:\n",
    "        candidate_scores = dict.fromkeys(range(1, candidate_count+1), 0)\n",
    "        for b in range(len(ballots)):\n",
    "            ballot = ballots[b][0]\n",
    "            count = ballots[b][1]\n",
    "            for i in range(candidate_count):\n",
    "                if ballot[i] not in elim:\n",
    "                    if not ballots_size is None and ballots_size[b] < i:\n",
    "                        candidate_scores[ballot[i]] += count * score_decay\n",
    "                    else:\n",
    "                        candidate_scores[ballot[i]] += count\n",
    "                    break\n",
    "        least = 0\n",
    "        best = 0\n",
    "        first = True\n",
    "        for (i,v) in candidate_scores.items():\n",
    "            if i not in elim:\n",
    "                if first:\n",
    "                    least = i\n",
    "                    best = i\n",
    "                    first = False\n",
    "                elif candidate_scores[least] > v:\n",
    "                    least = i\n",
    "                elif candidate_scores[best] < v:\n",
    "                    best = i\n",
    "        # if majority, return as winner\n",
    "        if candidate_scores[best] > len(ballots)/2: return best\n",
    "        # otherwise eliminate lowest and continue\n",
    "        print(\"Eliminate \"+str(least))\n",
    "        elim.append(least)\n",
    "        "
   ]
  },
  {
   "cell_type": "code",
   "execution_count": 96,
   "metadata": {},
   "outputs": [
    {
     "name": "stdout",
     "output_type": "stream",
     "text": [
      "Eliminate 11\n",
      "Eliminate 8\n",
      "Eliminate 5\n",
      "Eliminate 1\n",
      "Eliminate 3\n",
      "Eliminate 7\n",
      "10\n"
     ]
    }
   ],
   "source": [
    "print(irv(ballots, ballots_size, 0))"
   ]
  },
  {
   "cell_type": "code",
   "execution_count": 106,
   "metadata": {},
   "outputs": [],
   "source": [
    "def copeland(ballots, ballot_size=None, score_decay=1):\n",
    "    \n",
    "    candidate_scores = dict.fromkeys(range(1, candidate_count+1), dict.fromkeys(range(1, candidate_count+1), 0))\n",
    "    # get dic where [i][j] -> # times i beats j\n",
    "    for b in range(len(ballots)):\n",
    "        ballot = ballots[b][0]\n",
    "        count = ballots[b][1]\n",
    "        for i in range(candidate_count):\n",
    "            for j in range(i+1,candidate_count):\n",
    "                # ballot[i] beats all ballot[j]\n",
    "                if not ballots_size is None and ballots_size[b] < i:\n",
    "                    candidate_scores[ballot[i]][ballot[j]] += count * score_decay\n",
    "                else:\n",
    "                    candidate_scores[ballot[i]][ballot[j]] += count\n",
    "                \n",
    "    \n",
    "    \n",
    "    candidate_pairwise_wins = dict.fromkeys(range(1, candidate_count+1), 0)\n",
    "    \n",
    "    # loop through all pairwise matchups\n",
    "    for i in range(1, candidate_count+1):\n",
    "        for j in range(i+1, candidate_count+1):\n",
    "            if candidate_scores[i][j] > candidate_scores[j][i]:\n",
    "                # i beats j\n",
    "                candidate_pairwise_wins[i] += 1\n",
    "            else: \n",
    "                candidate_pairwise_wins[j] += 1\n",
    "                \n",
    "    \n",
    "    max = 1\n",
    "    # get candidate with most pairwise wins\n",
    "    for i in range(1, candidate_count+1):\n",
    "        if candidate_pairwise_wins[i] > candidate_pairwise_wins[max]:\n",
    "            max = i\n",
    "        print(str(i) + \" wins: \" + str(candidate_pairwise_wins[i]))\n",
    "    return max\n",
    "    \n",
    "    \n",
    "    "
   ]
  },
  {
   "cell_type": "code",
   "execution_count": 112,
   "metadata": {},
   "outputs": [
    {
     "name": "stdout",
     "output_type": "stream",
     "text": [
      "1 wins: 1\n",
      "2 wins: 9\n",
      "3 wins: 6\n",
      "4 wins: 5\n",
      "5 wins: 10\n",
      "6 wins: 0\n",
      "7 wins: 4\n",
      "8 wins: 8\n",
      "9 wins: 7\n",
      "10 wins: 3\n",
      "11 wins: 2\n",
      "12 wins: 11\n",
      "12\n"
     ]
    }
   ],
   "source": [
    "print(copeland(ballots, ballots_size, 1))"
   ]
  },
  {
   "cell_type": "code",
   "execution_count": null,
   "metadata": {},
   "outputs": [],
   "source": []
  }
 ],
 "metadata": {
  "kernelspec": {
   "display_name": "Python 3",
   "language": "python",
   "name": "python3"
  },
  "language_info": {
   "codemirror_mode": {
    "name": "ipython",
    "version": 3
   },
   "file_extension": ".py",
   "mimetype": "text/x-python",
   "name": "python",
   "nbconvert_exporter": "python",
   "pygments_lexer": "ipython3",
   "version": "3.9.2"
  }
 },
 "nbformat": 4,
 "nbformat_minor": 4
}
