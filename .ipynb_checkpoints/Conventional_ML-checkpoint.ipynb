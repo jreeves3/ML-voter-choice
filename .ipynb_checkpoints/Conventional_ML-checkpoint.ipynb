{
 "cells": [
  {
   "cell_type": "code",
   "execution_count": 180,
   "metadata": {},
   "outputs": [],
   "source": [
    "import csv\n",
    "import random\n",
    "from torch import manual_seed, randperm, set_grad_enabled, from_numpy\n",
    "from torch.nn import Module, Conv2d, Linear, Dropout, Conv1d\n",
    "from torch.nn.functional import relu, max_pool2d, cross_entropy\n",
    "from torch.utils.data import DataLoader, Subset\n",
    "from torchvision.datasets import MNIST\n",
    "from torchvision.transforms import ToTensor\n",
    "from torch.optim import Adam\n",
    "import matplotlib.pyplot as plt\n",
    "from os import system\n",
    "import numpy"
   ]
  },
  {
   "cell_type": "code",
   "execution_count": 181,
   "metadata": {},
   "outputs": [],
   "source": [
    "# candidate info\n",
    "candidate_count = 0\n",
    "candidates = []\n",
    "\n",
    "# ballot mete data\n",
    "total_voter_count = 0\n",
    "total_vote_count = 0\n",
    "unique_order_count = 0\n",
    "\n",
    "# ballot data\n",
    "# map a unique order of ballots to the total count of ballots in this order\n",
    " # format: tuple(first choice,second,third choice...): count\n",
    "ballots = []\n",
    "\n",
    "ballots_size = []\n",
    "\n",
    "with open(\"data/dublin-north.soi\", newline=\"\\n\") as data_file:\n",
    "    data = csv.reader(data_file)\n",
    "    i = 0\n",
    "    for row in data:\n",
    "        if i == 0:\n",
    "            candidate_count = int(row[0])\n",
    "        elif i <= candidate_count:\n",
    "            candidates.append(row[1])\n",
    "        elif i == candidate_count + 1:\n",
    "            total_voter_count = int(row[0])\n",
    "            total_vote_count = int(row[1])\n",
    "            unique_order_count = int(row[2])\n",
    "        else:\n",
    "            ballot = tuple(int(j) for j in row[1:])\n",
    "            ballots.append([ballot, int(row[0])])\n",
    "            ballots_size.append(len(ballot))\n",
    "        i += 1"
   ]
  },
  {
   "cell_type": "code",
   "execution_count": 182,
   "metadata": {},
   "outputs": [],
   "source": [
    "# print(candidate_count)\n",
    "# for key in ballots.keys():\n",
    "#     print(key, ballots[key])\n",
    "#     print(len(key))\n",
    "# for ballot in ballots:\n",
    "#     print(ballot, ballots[ballot])\n",
    "#     assert len(ballot[0]) != 0\n",
    "# print(train_data[0][:-1])"
   ]
  },
  {
   "cell_type": "code",
   "execution_count": 193,
   "metadata": {},
   "outputs": [],
   "source": [
    "# unroll ballots\n",
    "def get_train_data(ballots, target_length):\n",
    "    train_data = []\n",
    "    labels = []\n",
    "    for b in range(len(ballots)):\n",
    "        if len(ballots[b][0]) >= target_length:\n",
    "            for i in range(ballots[b][1]):\n",
    "                train_data.append(list(ballots[b][0][:target_length - 1]))\n",
    "                labels.append(ballots[b][0][target_length - 1])\n",
    "        assert(len(train_data[-1]) == target_length - 1)\n",
    "    return train_data, labels"
   ]
  },
  {
   "cell_type": "code",
   "execution_count": 194,
   "metadata": {},
   "outputs": [],
   "source": [
    "# train model function\n",
    "class Model(Module):\n",
    "    \n",
    "    def __init__(self, dropout, kernel_size, target_length):\n",
    "        super().__init__()\n",
    "        features = [8, 16, 128]\n",
    "        \n",
    "        self.conv1 = Conv1d(1, features[0], kernel_size)\n",
    "        self.conv2 = Conv1d(features[0], features[1], kernel_size)\n",
    "        \n",
    "        self.fc1 = Linear(features[1] * 4 * 4, features[2])\n",
    "        self.fc2 = Linear(features[2], target_length)\n",
    "        \n",
    "        self.drop = Dropout(dropout)\n",
    "        \n",
    "    def forward(self, x):\n",
    "        x = self.conv1(x)\n",
    "        x = relu(x)\n",
    "#         x = max_pool2d(x, 2)\n",
    "        \n",
    "        x = self.conv2(x)\n",
    "        x = relu(x)\n",
    "#         x = max_pool2d(x, 2)\n",
    "        \n",
    "        x = x.flatten(1)\n",
    "        \n",
    "        x = self.fc1(x)\n",
    "        x = relu(x)\n",
    "        x = self.drop(x)\n",
    "        \n",
    "        x = self.fc2(x)\n",
    "        return x"
   ]
  },
  {
   "cell_type": "code",
   "execution_count": 191,
   "metadata": {},
   "outputs": [],
   "source": [
    "def run_epoch(train, ballots, model, target_length, optim=None):\n",
    "    model.train(train)\n",
    "    loss = 0\n",
    "    correct = 0\n",
    "    with set_grad_enabled(train):\n",
    "        # convert list of list to tensor, buggy\n",
    "        train_data, labels = get_train_data(ballots, target_length)\n",
    "#         print(train_data[0])\n",
    "        train_data_array = numpy.array(train_data)\n",
    "        train_data_tensor = from_numpy(train_data_array)\n",
    "\n",
    "        output = model(train_data_tensor)\n",
    "        loss = cross_entropy(output, labels)\n",
    "#             loss += batch_loss.item() * len(data)\n",
    "        correct += (output.argmax(-1) == target).sum().item()\n",
    "\n",
    "        if train:\n",
    "            optim.zero_grad()\n",
    "            loss.backward()\n",
    "            optim.step()\n",
    "\n",
    "    return loss / len(loader.dataset), correct / len(loader.dataset)"
   ]
  },
  {
   "cell_type": "code",
   "execution_count": 192,
   "metadata": {},
   "outputs": [
    {
     "ename": "RuntimeError",
     "evalue": "Expected 3-dimensional input for 3-dimensional weight [1, 1, 1], but got 2-dimensional input of size [42254, 1] instead",
     "output_type": "error",
     "traceback": [
      "\u001b[1;31m---------------------------------------------------------------------------\u001b[0m",
      "\u001b[1;31mRuntimeError\u001b[0m                              Traceback (most recent call last)",
      "\u001b[1;32m<ipython-input-192-33c4c2db6cc2>\u001b[0m in \u001b[0;36m<module>\u001b[1;34m\u001b[0m\n\u001b[0;32m      3\u001b[0m \u001b[0mmodel\u001b[0m \u001b[1;33m=\u001b[0m \u001b[0mModel\u001b[0m\u001b[1;33m(\u001b[0m\u001b[1;36m0\u001b[0m\u001b[1;33m,\u001b[0m \u001b[1;36m1\u001b[0m\u001b[1;33m,\u001b[0m \u001b[1;36m2\u001b[0m\u001b[1;33m)\u001b[0m\u001b[1;33m\u001b[0m\u001b[1;33m\u001b[0m\u001b[0m\n\u001b[0;32m      4\u001b[0m \u001b[0moptim\u001b[0m \u001b[1;33m=\u001b[0m \u001b[0mAdam\u001b[0m\u001b[1;33m(\u001b[0m\u001b[0mmodel\u001b[0m\u001b[1;33m.\u001b[0m\u001b[0mparameters\u001b[0m\u001b[1;33m(\u001b[0m\u001b[1;33m)\u001b[0m\u001b[1;33m,\u001b[0m \u001b[1;36m1e-3\u001b[0m\u001b[1;33m)\u001b[0m\u001b[1;33m\u001b[0m\u001b[1;33m\u001b[0m\u001b[0m\n\u001b[1;32m----> 5\u001b[1;33m \u001b[0mtrain_loss\u001b[0m\u001b[1;33m,\u001b[0m \u001b[0mtrain_acc\u001b[0m \u001b[1;33m=\u001b[0m \u001b[0mrun_epoch\u001b[0m\u001b[1;33m(\u001b[0m\u001b[1;32mTrue\u001b[0m\u001b[1;33m,\u001b[0m \u001b[0mballots\u001b[0m\u001b[1;33m,\u001b[0m \u001b[0mmodel\u001b[0m\u001b[1;33m,\u001b[0m \u001b[1;36m2\u001b[0m\u001b[1;33m,\u001b[0m \u001b[0moptim\u001b[0m\u001b[1;33m)\u001b[0m\u001b[1;33m\u001b[0m\u001b[1;33m\u001b[0m\u001b[0m\n\u001b[0m",
      "\u001b[1;32m<ipython-input-191-477a9a8cb028>\u001b[0m in \u001b[0;36mrun_epoch\u001b[1;34m(train, ballots, model, target_length, optim)\u001b[0m\n\u001b[0;32m      9\u001b[0m         \u001b[0mtrain_data_tensor\u001b[0m \u001b[1;33m=\u001b[0m \u001b[0mfrom_numpy\u001b[0m\u001b[1;33m(\u001b[0m\u001b[0mtrain_data_array\u001b[0m\u001b[1;33m)\u001b[0m\u001b[1;33m\u001b[0m\u001b[1;33m\u001b[0m\u001b[0m\n\u001b[0;32m     10\u001b[0m \u001b[1;33m\u001b[0m\u001b[0m\n\u001b[1;32m---> 11\u001b[1;33m         \u001b[0moutput\u001b[0m \u001b[1;33m=\u001b[0m \u001b[0mmodel\u001b[0m\u001b[1;33m(\u001b[0m\u001b[0mtrain_data_tensor\u001b[0m\u001b[1;33m)\u001b[0m\u001b[1;33m\u001b[0m\u001b[1;33m\u001b[0m\u001b[0m\n\u001b[0m\u001b[0;32m     12\u001b[0m         \u001b[0mloss\u001b[0m \u001b[1;33m=\u001b[0m \u001b[0mcross_entropy\u001b[0m\u001b[1;33m(\u001b[0m\u001b[0moutput\u001b[0m\u001b[1;33m,\u001b[0m \u001b[0mlabels\u001b[0m\u001b[1;33m)\u001b[0m\u001b[1;33m\u001b[0m\u001b[1;33m\u001b[0m\u001b[0m\n\u001b[0;32m     13\u001b[0m \u001b[1;31m#             loss += batch_loss.item() * len(data)\u001b[0m\u001b[1;33m\u001b[0m\u001b[1;33m\u001b[0m\u001b[1;33m\u001b[0m\u001b[0m\n",
      "\u001b[1;32mC:\\ProgramData\\Anaconda3\\lib\\site-packages\\torch\\nn\\modules\\module.py\u001b[0m in \u001b[0;36m_call_impl\u001b[1;34m(self, *input, **kwargs)\u001b[0m\n\u001b[0;32m    887\u001b[0m             \u001b[0mresult\u001b[0m \u001b[1;33m=\u001b[0m \u001b[0mself\u001b[0m\u001b[1;33m.\u001b[0m\u001b[0m_slow_forward\u001b[0m\u001b[1;33m(\u001b[0m\u001b[1;33m*\u001b[0m\u001b[0minput\u001b[0m\u001b[1;33m,\u001b[0m \u001b[1;33m**\u001b[0m\u001b[0mkwargs\u001b[0m\u001b[1;33m)\u001b[0m\u001b[1;33m\u001b[0m\u001b[1;33m\u001b[0m\u001b[0m\n\u001b[0;32m    888\u001b[0m         \u001b[1;32melse\u001b[0m\u001b[1;33m:\u001b[0m\u001b[1;33m\u001b[0m\u001b[1;33m\u001b[0m\u001b[0m\n\u001b[1;32m--> 889\u001b[1;33m             \u001b[0mresult\u001b[0m \u001b[1;33m=\u001b[0m \u001b[0mself\u001b[0m\u001b[1;33m.\u001b[0m\u001b[0mforward\u001b[0m\u001b[1;33m(\u001b[0m\u001b[1;33m*\u001b[0m\u001b[0minput\u001b[0m\u001b[1;33m,\u001b[0m \u001b[1;33m**\u001b[0m\u001b[0mkwargs\u001b[0m\u001b[1;33m)\u001b[0m\u001b[1;33m\u001b[0m\u001b[1;33m\u001b[0m\u001b[0m\n\u001b[0m\u001b[0;32m    890\u001b[0m         for hook in itertools.chain(\n\u001b[0;32m    891\u001b[0m                 \u001b[0m_global_forward_hooks\u001b[0m\u001b[1;33m.\u001b[0m\u001b[0mvalues\u001b[0m\u001b[1;33m(\u001b[0m\u001b[1;33m)\u001b[0m\u001b[1;33m,\u001b[0m\u001b[1;33m\u001b[0m\u001b[1;33m\u001b[0m\u001b[0m\n",
      "\u001b[1;32m<ipython-input-190-f648f6cfc81a>\u001b[0m in \u001b[0;36mforward\u001b[1;34m(self, x)\u001b[0m\n\u001b[0;32m     15\u001b[0m \u001b[1;33m\u001b[0m\u001b[0m\n\u001b[0;32m     16\u001b[0m     \u001b[1;32mdef\u001b[0m \u001b[0mforward\u001b[0m\u001b[1;33m(\u001b[0m\u001b[0mself\u001b[0m\u001b[1;33m,\u001b[0m \u001b[0mx\u001b[0m\u001b[1;33m)\u001b[0m\u001b[1;33m:\u001b[0m\u001b[1;33m\u001b[0m\u001b[1;33m\u001b[0m\u001b[0m\n\u001b[1;32m---> 17\u001b[1;33m         \u001b[0mx\u001b[0m \u001b[1;33m=\u001b[0m \u001b[0mself\u001b[0m\u001b[1;33m.\u001b[0m\u001b[0mconv1\u001b[0m\u001b[1;33m(\u001b[0m\u001b[0mx\u001b[0m\u001b[1;33m)\u001b[0m\u001b[1;33m\u001b[0m\u001b[1;33m\u001b[0m\u001b[0m\n\u001b[0m\u001b[0;32m     18\u001b[0m         \u001b[0mx\u001b[0m \u001b[1;33m=\u001b[0m \u001b[0mrelu\u001b[0m\u001b[1;33m(\u001b[0m\u001b[0mx\u001b[0m\u001b[1;33m)\u001b[0m\u001b[1;33m\u001b[0m\u001b[1;33m\u001b[0m\u001b[0m\n\u001b[0;32m     19\u001b[0m \u001b[1;31m#         x = max_pool2d(x, 2)\u001b[0m\u001b[1;33m\u001b[0m\u001b[1;33m\u001b[0m\u001b[1;33m\u001b[0m\u001b[0m\n",
      "\u001b[1;32mC:\\ProgramData\\Anaconda3\\lib\\site-packages\\torch\\nn\\modules\\module.py\u001b[0m in \u001b[0;36m_call_impl\u001b[1;34m(self, *input, **kwargs)\u001b[0m\n\u001b[0;32m    887\u001b[0m             \u001b[0mresult\u001b[0m \u001b[1;33m=\u001b[0m \u001b[0mself\u001b[0m\u001b[1;33m.\u001b[0m\u001b[0m_slow_forward\u001b[0m\u001b[1;33m(\u001b[0m\u001b[1;33m*\u001b[0m\u001b[0minput\u001b[0m\u001b[1;33m,\u001b[0m \u001b[1;33m**\u001b[0m\u001b[0mkwargs\u001b[0m\u001b[1;33m)\u001b[0m\u001b[1;33m\u001b[0m\u001b[1;33m\u001b[0m\u001b[0m\n\u001b[0;32m    888\u001b[0m         \u001b[1;32melse\u001b[0m\u001b[1;33m:\u001b[0m\u001b[1;33m\u001b[0m\u001b[1;33m\u001b[0m\u001b[0m\n\u001b[1;32m--> 889\u001b[1;33m             \u001b[0mresult\u001b[0m \u001b[1;33m=\u001b[0m \u001b[0mself\u001b[0m\u001b[1;33m.\u001b[0m\u001b[0mforward\u001b[0m\u001b[1;33m(\u001b[0m\u001b[1;33m*\u001b[0m\u001b[0minput\u001b[0m\u001b[1;33m,\u001b[0m \u001b[1;33m**\u001b[0m\u001b[0mkwargs\u001b[0m\u001b[1;33m)\u001b[0m\u001b[1;33m\u001b[0m\u001b[1;33m\u001b[0m\u001b[0m\n\u001b[0m\u001b[0;32m    890\u001b[0m         for hook in itertools.chain(\n\u001b[0;32m    891\u001b[0m                 \u001b[0m_global_forward_hooks\u001b[0m\u001b[1;33m.\u001b[0m\u001b[0mvalues\u001b[0m\u001b[1;33m(\u001b[0m\u001b[1;33m)\u001b[0m\u001b[1;33m,\u001b[0m\u001b[1;33m\u001b[0m\u001b[1;33m\u001b[0m\u001b[0m\n",
      "\u001b[1;32mC:\\ProgramData\\Anaconda3\\lib\\site-packages\\torch\\nn\\modules\\conv.py\u001b[0m in \u001b[0;36mforward\u001b[1;34m(self, input)\u001b[0m\n\u001b[0;32m    261\u001b[0m \u001b[1;33m\u001b[0m\u001b[0m\n\u001b[0;32m    262\u001b[0m     \u001b[1;32mdef\u001b[0m \u001b[0mforward\u001b[0m\u001b[1;33m(\u001b[0m\u001b[0mself\u001b[0m\u001b[1;33m,\u001b[0m \u001b[0minput\u001b[0m\u001b[1;33m:\u001b[0m \u001b[0mTensor\u001b[0m\u001b[1;33m)\u001b[0m \u001b[1;33m->\u001b[0m \u001b[0mTensor\u001b[0m\u001b[1;33m:\u001b[0m\u001b[1;33m\u001b[0m\u001b[1;33m\u001b[0m\u001b[0m\n\u001b[1;32m--> 263\u001b[1;33m         \u001b[1;32mreturn\u001b[0m \u001b[0mself\u001b[0m\u001b[1;33m.\u001b[0m\u001b[0m_conv_forward\u001b[0m\u001b[1;33m(\u001b[0m\u001b[0minput\u001b[0m\u001b[1;33m,\u001b[0m \u001b[0mself\u001b[0m\u001b[1;33m.\u001b[0m\u001b[0mweight\u001b[0m\u001b[1;33m,\u001b[0m \u001b[0mself\u001b[0m\u001b[1;33m.\u001b[0m\u001b[0mbias\u001b[0m\u001b[1;33m)\u001b[0m\u001b[1;33m\u001b[0m\u001b[1;33m\u001b[0m\u001b[0m\n\u001b[0m\u001b[0;32m    264\u001b[0m \u001b[1;33m\u001b[0m\u001b[0m\n\u001b[0;32m    265\u001b[0m \u001b[1;33m\u001b[0m\u001b[0m\n",
      "\u001b[1;32mC:\\ProgramData\\Anaconda3\\lib\\site-packages\\torch\\nn\\modules\\conv.py\u001b[0m in \u001b[0;36m_conv_forward\u001b[1;34m(self, input, weight, bias)\u001b[0m\n\u001b[0;32m    257\u001b[0m                             \u001b[0mweight\u001b[0m\u001b[1;33m,\u001b[0m \u001b[0mbias\u001b[0m\u001b[1;33m,\u001b[0m \u001b[0mself\u001b[0m\u001b[1;33m.\u001b[0m\u001b[0mstride\u001b[0m\u001b[1;33m,\u001b[0m\u001b[1;33m\u001b[0m\u001b[1;33m\u001b[0m\u001b[0m\n\u001b[0;32m    258\u001b[0m                             _single(0), self.dilation, self.groups)\n\u001b[1;32m--> 259\u001b[1;33m         return F.conv1d(input, weight, bias, self.stride,\n\u001b[0m\u001b[0;32m    260\u001b[0m                         self.padding, self.dilation, self.groups)\n\u001b[0;32m    261\u001b[0m \u001b[1;33m\u001b[0m\u001b[0m\n",
      "\u001b[1;31mRuntimeError\u001b[0m: Expected 3-dimensional input for 3-dimensional weight [1, 1, 1], but got 2-dimensional input of size [42254, 1] instead"
     ]
    }
   ],
   "source": [
    "# for dropout in [0, .2, .5, .8]:\n",
    "#     manual_seed(0)\n",
    "model = Model(0, 1, 2)\n",
    "optim = Adam(model.parameters(), 1e-3)\n",
    "train_loss, train_acc = run_epoch(True, ballots, model, 2, optim)"
   ]
  },
  {
   "cell_type": "code",
   "execution_count": 112,
   "metadata": {},
   "outputs": [],
   "source": [
    "# Return an order of ballot as a tuple\n",
    "def predict(ballots, target_ballot, model):\n",
    "    # finish this\n",
    "    \n",
    "    ##################### place holder ####################\n",
    "    temp = list(target_ballot)\n",
    "    temp.append(random.randint(1,12))\n",
    "    improved_target_ballot = tuple(temp)\n",
    "    #######################################################\n",
    "    \n",
    "    return improved_target_ballot"
   ]
  },
  {
   "cell_type": "code",
   "execution_count": 65,
   "metadata": {},
   "outputs": [],
   "source": [
    "# this code will modify the data in \"ballots\". Need to rerun above data reading code to restore\n",
    "# data in the dictionary.\n",
    "for i in range(1, candidate_count):\n",
    "    # train model for predicting the i+1 preference\n",
    "    model = None\n",
    "    \n",
    "    # update ballots with only i preference\n",
    "#     keys = list(ballots.keys())\n",
    "    for b in range(len(ballots)):\n",
    "        ballot = ballots[b][0]\n",
    "        if len(ballot) == i : #and ballots[b][0] != 0:\n",
    "            improved_ballot = predict(ballots, ballot, model)\n",
    "            ballots[b][0] = improved_ballot\n",
    "#             if improved_ballot in ballots:\n",
    "#                 ballots[improved_ballot] += ballots[ballot]\n",
    "#             else:\n",
    "#                 ballots[improved_ballot] = ballots[ballot]\n",
    "#             del ballots[ballot]\n",
    "#             ballots[ballot] = 0 # set old count to 0, should then have no impact on final vote count\n",
    "# print(ballots)"
   ]
  },
  {
   "cell_type": "code",
   "execution_count": 66,
   "metadata": {},
   "outputs": [],
   "source": [
    "# Return a dictionary mapping candidate number to score.\n",
    "# Calculate candidate scores based on Borda's Rule.\n",
    "def borda_rule_result(ballots,ballots_size=None,score_decay=1):\n",
    "    candidate_scores = dict.fromkeys(range(1, candidate_count+1), 0)\n",
    "#     print(candidate_scores)\n",
    "    for b in range(len(ballots)):\n",
    "        ballot = ballots[b][0]\n",
    "        count = ballots[b][1]\n",
    "        for i in range(candidate_count):\n",
    "            if not ballots_size is None and ballots_size[b] < i:\n",
    "                candidate_scores[ballot[i]] += (candidate_count - 1 - i) * count * score_decay\n",
    "            else:\n",
    "                candidate_scores[ballot[i]] += (candidate_count - 1 - i) * count\n",
    "    return candidate_scores"
   ]
  },
  {
   "cell_type": "code",
   "execution_count": 105,
   "metadata": {},
   "outputs": [
    {
     "name": "stdout",
     "output_type": "stream",
     "text": [
      "{1: 215519, 2: 269525, 3: 172376, 4: 307505, 5: 170518, 6: 300672, 7: 252967, 8: 134348, 9: 317592, 10: 351552, 11: 127823, 12: 279775}\n"
     ]
    }
   ],
   "source": [
    "print(borda_rule_result(ballots, ballots_size,1))"
   ]
  },
  {
   "cell_type": "code",
   "execution_count": 86,
   "metadata": {},
   "outputs": [],
   "source": [
    "def svt(ballots, ballots_size=[],score_decay=1):\n",
    "    elim = [] # eliminated candidates\n",
    "    while True:\n",
    "        candidate_scores = dict.fromkeys(range(1, candidate_count+1), 0)\n",
    "        for b in range(len(ballots)):\n",
    "            ballot = ballots[b][0]\n",
    "            count = ballots[b][1]\n",
    "            for i in range(candidate_count):\n",
    "                if ballot[i] not in elim:\n",
    "                    if not ballots_size is None and ballots_size[b] < i:\n",
    "                        candidate_scores[ballot[i]] += count * score_decay\n",
    "                    else:\n",
    "                        candidate_scores[ballot[i]] += count\n",
    "                    break\n",
    "        least = 0\n",
    "        first = True\n",
    "        for (i,v) in candidate_scores.items():\n",
    "            if i not in elim:\n",
    "                if first:\n",
    "                    least = i\n",
    "                    first = False\n",
    "                elif candidate_scores[least] > v:\n",
    "                    least = i\n",
    "        # eliminate lowest\n",
    "        print(\"Eliminate \"+str(least))\n",
    "        elim.append(least)\n",
    "        # if 1 left, return as winner\n",
    "        if len(elim) == candidate_count-1: return [x for x in range(1,candidate_count+1) if x not in elim][0]"
   ]
  },
  {
   "cell_type": "code",
   "execution_count": 90,
   "metadata": {},
   "outputs": [
    {
     "name": "stdout",
     "output_type": "stream",
     "text": [
      "Eliminate 11\n",
      "Eliminate 8\n",
      "Eliminate 5\n",
      "Eliminate 1\n",
      "Eliminate 3\n",
      "Eliminate 7\n",
      "Eliminate 6\n",
      "Eliminate 2\n",
      "Eliminate 12\n",
      "Eliminate 9\n",
      "Eliminate 4\n",
      "10\n"
     ]
    }
   ],
   "source": [
    "print(svt(ballots, ballots_size, 0))"
   ]
  },
  {
   "cell_type": "code",
   "execution_count": 92,
   "metadata": {},
   "outputs": [],
   "source": [
    "def irv(ballots, ballots_size=[],score_decay=1):\n",
    "    elim = [] # eliminated candidates\n",
    "    while True:\n",
    "        candidate_scores = dict.fromkeys(range(1, candidate_count+1), 0)\n",
    "        for b in range(len(ballots)):\n",
    "            ballot = ballots[b][0]\n",
    "            count = ballots[b][1]\n",
    "            for i in range(candidate_count):\n",
    "                if ballot[i] not in elim:\n",
    "                    if not ballots_size is None and ballots_size[b] < i:\n",
    "                        candidate_scores[ballot[i]] += count * score_decay\n",
    "                    else:\n",
    "                        candidate_scores[ballot[i]] += count\n",
    "                    break\n",
    "        least = 0\n",
    "        best = 0\n",
    "        first = True\n",
    "        for (i,v) in candidate_scores.items():\n",
    "            if i not in elim:\n",
    "                if first:\n",
    "                    least = i\n",
    "                    best = i\n",
    "                    first = False\n",
    "                elif candidate_scores[least] > v:\n",
    "                    least = i\n",
    "                elif candidate_scores[best] < v:\n",
    "                    best = i\n",
    "        # if majority, return as winner\n",
    "        if candidate_scores[best] > len(ballots)/2: return best\n",
    "        # otherwise eliminate lowest and continue\n",
    "        print(\"Eliminate \"+str(least))\n",
    "        elim.append(least)\n",
    "        "
   ]
  },
  {
   "cell_type": "code",
   "execution_count": 96,
   "metadata": {},
   "outputs": [
    {
     "name": "stdout",
     "output_type": "stream",
     "text": [
      "Eliminate 11\n",
      "Eliminate 8\n",
      "Eliminate 5\n",
      "Eliminate 1\n",
      "Eliminate 3\n",
      "Eliminate 7\n",
      "10\n"
     ]
    }
   ],
   "source": [
    "print(irv(ballots, ballots_size, 0))"
   ]
  },
  {
   "cell_type": "code",
   "execution_count": 106,
   "metadata": {},
   "outputs": [],
   "source": [
    "def copeland(ballots, ballot_size=None, score_decay=1):\n",
    "    \n",
    "    candidate_scores = dict.fromkeys(range(1, candidate_count+1), dict.fromkeys(range(1, candidate_count+1), 0))\n",
    "    # get dic where [i][j] -> # times i beats j\n",
    "    for b in range(len(ballots)):\n",
    "        ballot = ballots[b][0]\n",
    "        count = ballots[b][1]\n",
    "        for i in range(candidate_count):\n",
    "            for j in range(i+1,candidate_count):\n",
    "                # ballot[i] beats all ballot[j]\n",
    "                if not ballots_size is None and ballots_size[b] < i:\n",
    "                    candidate_scores[ballot[i]][ballot[j]] += count * score_decay\n",
    "                else:\n",
    "                    candidate_scores[ballot[i]][ballot[j]] += count\n",
    "                \n",
    "    \n",
    "    \n",
    "    candidate_pairwise_wins = dict.fromkeys(range(1, candidate_count+1), 0)\n",
    "    \n",
    "    # loop through all pairwise matchups\n",
    "    for i in range(1, candidate_count+1):\n",
    "        for j in range(i+1, candidate_count+1):\n",
    "            if candidate_scores[i][j] > candidate_scores[j][i]:\n",
    "                # i beats j\n",
    "                candidate_pairwise_wins[i] += 1\n",
    "            else: \n",
    "                candidate_pairwise_wins[j] += 1\n",
    "                \n",
    "    \n",
    "    max = 1\n",
    "    # get candidate with most pairwise wins\n",
    "    for i in range(1, candidate_count+1):\n",
    "        if candidate_pairwise_wins[i] > candidate_pairwise_wins[max]:\n",
    "            max = i\n",
    "        print(str(i) + \" wins: \" + str(candidate_pairwise_wins[i]))\n",
    "    return max\n",
    "    \n",
    "    \n",
    "    "
   ]
  },
  {
   "cell_type": "code",
   "execution_count": 112,
   "metadata": {},
   "outputs": [
    {
     "name": "stdout",
     "output_type": "stream",
     "text": [
      "1 wins: 1\n",
      "2 wins: 9\n",
      "3 wins: 6\n",
      "4 wins: 5\n",
      "5 wins: 10\n",
      "6 wins: 0\n",
      "7 wins: 4\n",
      "8 wins: 8\n",
      "9 wins: 7\n",
      "10 wins: 3\n",
      "11 wins: 2\n",
      "12 wins: 11\n",
      "12\n"
     ]
    }
   ],
   "source": [
    "# Update decay with exopnential...\n",
    "print(copeland(ballots, ballots_size, 1))"
   ]
  },
  {
   "cell_type": "code",
   "execution_count": null,
   "metadata": {},
   "outputs": [],
   "source": [
    "# from numpy import random\n",
    "# import numpy as np\n",
    "def reduce_ballots(ballots, ballots_size, alpha, beta):\n",
    "    array = np.array(range(len(ballots)))\n",
    "    random.shuffle(array)\n",
    "    change_ballots = array.to_list()\n",
    "    alpha_cnt = int(len(ballots) * alpha)\n",
    "    for b in change_ballots[0:alpha_cnt]: # Change first alpha random ballots\n",
    "        # Can we get original data set???\n",
    "        # Assuming all ballots are complete...\n",
    "        step = 1\n",
    "        ballot = ballots[b][0]\n",
    "        count = ballots[b][1]\n",
    "        for i in range(candidate_count-1,0,-1):\n",
    "            r = random.uniform(0,1)\n",
    "            if r > beta^step:\n",
    "                ballot = ballot[:-1]\n",
    "                step += 1\n",
    "            else:\n",
    "                break\n",
    "        ballots[b] = [ballot,count]\n",
    "        ballots_size[b] = candidate_count - (step-1)\n",
    "        \n",
    "    return ballots, ballots_size\n",
    "        "
   ]
  }
 ],
 "metadata": {
  "kernelspec": {
   "display_name": "Python 3",
   "language": "python",
   "name": "python3"
  },
  "language_info": {
   "codemirror_mode": {
    "name": "ipython",
    "version": 3
   },
   "file_extension": ".py",
   "mimetype": "text/x-python",
   "name": "python",
   "nbconvert_exporter": "python",
   "pygments_lexer": "ipython3",
   "version": "3.8.3"
  }
 },
 "nbformat": 4,
 "nbformat_minor": 4
}
