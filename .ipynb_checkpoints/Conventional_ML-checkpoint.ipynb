{
 "cells": [
  {
   "cell_type": "code",
   "execution_count": 1,
   "metadata": {},
   "outputs": [],
   "source": [
    "import csv\n",
    "import random\n",
    "\n",
    "# Import datasets, classifiers and performance metrics\n",
    "from sklearn import datasets, svm, metrics\n",
    "from sklearn.model_selection import train_test_split"
   ]
  },
  {
   "cell_type": "code",
   "execution_count": 2,
   "metadata": {},
   "outputs": [],
   "source": [
    "# candidate info\n",
    "candidate_count = 0\n",
    "candidates = []\n",
    "\n",
    "# ballot mete data\n",
    "total_voter_count = 0\n",
    "total_vote_count = 0\n",
    "unique_order_count = 0\n",
    "\n",
    "# ballot data\n",
    "# map a unique order of ballots to the total count of ballots in this order\n",
    " # format: tuple(first choice,second,third choice...): count\n",
    "ballots = []\n",
    "\n",
    "ballots_size = []\n",
    "\n",
    "with open(\"data/dublin-north.soi\", newline=\"\\n\") as data_file:\n",
    "    data = csv.reader(data_file)\n",
    "    i = 0\n",
    "    for row in data:\n",
    "        if i == 0:\n",
    "            candidate_count = int(row[0])\n",
    "        elif i <= candidate_count:\n",
    "            candidates.append(row[1])\n",
    "        elif i == candidate_count + 1:\n",
    "            total_voter_count = int(row[0])\n",
    "            total_vote_count = int(row[1])\n",
    "            unique_order_count = int(row[2])\n",
    "        else:\n",
    "            ballot = tuple(int(j) for j in row[1:])\n",
    "            ballots.append([ballot, int(row[0])])\n",
    "            ballots_size.append(len(ballot))\n",
    "        i += 1"
   ]
  },
  {
   "cell_type": "code",
   "execution_count": 3,
   "metadata": {},
   "outputs": [],
   "source": [
    "# print(candidate_count)\n",
    "# for key in ballots.keys():\n",
    "#     print(key, ballots[key])\n",
    "#     print(len(key))\n",
    "# for ballot in ballots:\n",
    "#     print(ballot, ballots[ballot])\n",
    "#     assert len(ballot[0]) != 0\n",
    "# print(train_data[0][:-1])"
   ]
  },
  {
   "cell_type": "code",
   "execution_count": 4,
   "metadata": {},
   "outputs": [],
   "source": [
    "# unroll ballots\n",
    "def unroll_ballots(ballots):\n",
    "    unrolled_ballots = []\n",
    "    for b in range(len(ballots)):\n",
    "        for i in range(ballots[b][1]):\n",
    "            unrolled_ballots.append(list(ballots[b][0]))\n",
    "    return unrolled_ballots\n",
    "unrolled_ballots = unroll_ballots(ballots)"
   ]
  },
  {
   "cell_type": "code",
   "execution_count": 6,
   "metadata": {},
   "outputs": [
    {
     "ename": "ValueError",
     "evalue": "not enough values to unpack (expected 4, got 2)",
     "output_type": "error",
     "traceback": [
      "\u001b[1;31m---------------------------------------------------------------------------\u001b[0m",
      "\u001b[1;31mValueError\u001b[0m                                Traceback (most recent call last)",
      "\u001b[1;32m<ipython-input-6-ece5138bd81a>\u001b[0m in \u001b[0;36m<module>\u001b[1;34m\u001b[0m\n\u001b[0;32m      1\u001b[0m \u001b[1;31m# divide into train and test set\u001b[0m\u001b[1;33m\u001b[0m\u001b[1;33m\u001b[0m\u001b[1;33m\u001b[0m\u001b[0m\n\u001b[0;32m      2\u001b[0m \u001b[0munrolled_ballots\u001b[0m \u001b[1;33m=\u001b[0m \u001b[0munroll_ballots\u001b[0m\u001b[1;33m(\u001b[0m\u001b[0mballots\u001b[0m\u001b[1;33m)\u001b[0m\u001b[1;33m\u001b[0m\u001b[1;33m\u001b[0m\u001b[0m\n\u001b[1;32m----> 3\u001b[1;33m \u001b[0mX_train\u001b[0m\u001b[1;33m,\u001b[0m \u001b[0mX_test\u001b[0m\u001b[1;33m,\u001b[0m \u001b[0my_train\u001b[0m\u001b[1;33m,\u001b[0m \u001b[0my_test\u001b[0m \u001b[1;33m=\u001b[0m \u001b[0mtrain_test_split\u001b[0m\u001b[1;33m(\u001b[0m\u001b[0munrolled_ballots\u001b[0m\u001b[1;33m,\u001b[0m \u001b[0mtest_size\u001b[0m \u001b[1;33m=\u001b[0m \u001b[1;36m0.2\u001b[0m\u001b[1;33m,\u001b[0m \u001b[0mrandom_state\u001b[0m\u001b[1;33m=\u001b[0m\u001b[1;36m1\u001b[0m\u001b[1;33m)\u001b[0m\u001b[1;33m\u001b[0m\u001b[1;33m\u001b[0m\u001b[0m\n\u001b[0m",
      "\u001b[1;31mValueError\u001b[0m: not enough values to unpack (expected 4, got 2)"
     ]
    }
   ],
   "source": [
    "# divide into train and test set\n",
    "X_train, X_test, y_train, y_test = train_test_split(unrolled_ballots, test_size = 0.2, random_state=1)"
   ]
  },
  {
   "cell_type": "code",
   "execution_count": null,
   "metadata": {},
   "outputs": [],
   "source": [
    "# Create a classifier: a support vector classifier\n",
    "clf = svm.SVC(gamma=0.001)"
   ]
  },
  {
   "cell_type": "code",
   "execution_count": null,
   "metadata": {},
   "outputs": [],
   "source": [
    "clf.fit(train_data, labels)"
   ]
  },
  {
   "cell_type": "code",
   "execution_count": null,
   "metadata": {},
   "outputs": [],
   "source": []
  },
  {
   "cell_type": "code",
   "execution_count": null,
   "metadata": {},
   "outputs": [],
   "source": [
    "# Return an order of ballot as a tuple\n",
    "def predict(ballots, target_ballot, model):\n",
    "    # finish this\n",
    "    \n",
    "    ##################### place holder ####################\n",
    "    temp = list(target_ballot)\n",
    "    temp.append(random.randint(1,12))\n",
    "    improved_target_ballot = tuple(temp)\n",
    "    #######################################################\n",
    "    \n",
    "    return improved_target_ballot"
   ]
  },
  {
   "cell_type": "code",
   "execution_count": null,
   "metadata": {},
   "outputs": [],
   "source": [
    "# this code will modify the data in \"ballots\". Need to rerun above data reading code to restore\n",
    "# data in the dictionary.\n",
    "for i in range(1, candidate_count):\n",
    "    # train model for predicting the i+1 preference\n",
    "    model = None\n",
    "    \n",
    "    # update ballots with only i preference\n",
    "#     keys = list(ballots.keys())\n",
    "    for b in range(len(ballots)):\n",
    "        ballot = ballots[b][0]\n",
    "        if len(ballot) == i : #and ballots[b][0] != 0:\n",
    "            improved_ballot = predict(ballots, ballot, model)\n",
    "            ballots[b][0] = improved_ballot\n",
    "#             if improved_ballot in ballots:\n",
    "#                 ballots[improved_ballot] += ballots[ballot]\n",
    "#             else:\n",
    "#                 ballots[improved_ballot] = ballots[ballot]\n",
    "#             del ballots[ballot]\n",
    "#             ballots[ballot] = 0 # set old count to 0, should then have no impact on final vote count\n",
    "# print(ballots)"
   ]
  },
  {
   "cell_type": "code",
   "execution_count": null,
   "metadata": {},
   "outputs": [],
   "source": [
    "# Return a dictionary mapping candidate number to score.\n",
    "# Calculate candidate scores based on Borda's Rule.\n",
    "def borda_rule_result(ballots,ballots_size=None,score_decay=1):\n",
    "    candidate_scores = dict.fromkeys(range(1, candidate_count+1), 0)\n",
    "#     print(candidate_scores)\n",
    "    for b in range(len(ballots)):\n",
    "        ballot = ballots[b][0]\n",
    "        count = ballots[b][1]\n",
    "        for i in range(candidate_count):\n",
    "            if not ballots_size is None and ballots_size[b] < i:\n",
    "                candidate_scores[ballot[i]] += (candidate_count - 1 - i) * count * score_decay\n",
    "            else:\n",
    "                candidate_scores[ballot[i]] += (candidate_count - 1 - i) * count\n",
    "    return candidate_scores"
   ]
  },
  {
   "cell_type": "code",
   "execution_count": null,
   "metadata": {},
   "outputs": [],
   "source": [
    "print(borda_rule_result(ballots, ballots_size,1))"
   ]
  },
  {
   "cell_type": "code",
   "execution_count": null,
   "metadata": {},
   "outputs": [],
   "source": [
    "def svt(ballots, ballots_size=[],score_decay=1):\n",
    "    elim = [] # eliminated candidates\n",
    "    while True:\n",
    "        candidate_scores = dict.fromkeys(range(1, candidate_count+1), 0)\n",
    "        for b in range(len(ballots)):\n",
    "            ballot = ballots[b][0]\n",
    "            count = ballots[b][1]\n",
    "            for i in range(candidate_count):\n",
    "                if ballot[i] not in elim:\n",
    "                    if not ballots_size is None and ballots_size[b] < i:\n",
    "                        candidate_scores[ballot[i]] += count * score_decay\n",
    "                    else:\n",
    "                        candidate_scores[ballot[i]] += count\n",
    "                    break\n",
    "        least = 0\n",
    "        first = True\n",
    "        for (i,v) in candidate_scores.items():\n",
    "            if i not in elim:\n",
    "                if first:\n",
    "                    least = i\n",
    "                    first = False\n",
    "                elif candidate_scores[least] > v:\n",
    "                    least = i\n",
    "        # eliminate lowest\n",
    "        print(\"Eliminate \"+str(least))\n",
    "        elim.append(least)\n",
    "        # if 1 left, return as winner\n",
    "        if len(elim) == candidate_count-1: return [x for x in range(1,candidate_count+1) if x not in elim][0]"
   ]
  },
  {
   "cell_type": "code",
   "execution_count": null,
   "metadata": {},
   "outputs": [],
   "source": [
    "print(svt(ballots, ballots_size, 0))"
   ]
  },
  {
   "cell_type": "code",
   "execution_count": null,
   "metadata": {},
   "outputs": [],
   "source": [
    "def irv(ballots, ballots_size=[],score_decay=1):\n",
    "    elim = [] # eliminated candidates\n",
    "    while True:\n",
    "        candidate_scores = dict.fromkeys(range(1, candidate_count+1), 0)\n",
    "        for b in range(len(ballots)):\n",
    "            ballot = ballots[b][0]\n",
    "            count = ballots[b][1]\n",
    "            for i in range(candidate_count):\n",
    "                if ballot[i] not in elim:\n",
    "                    if not ballots_size is None and ballots_size[b] < i:\n",
    "                        candidate_scores[ballot[i]] += count * score_decay\n",
    "                    else:\n",
    "                        candidate_scores[ballot[i]] += count\n",
    "                    break\n",
    "        least = 0\n",
    "        best = 0\n",
    "        first = True\n",
    "        for (i,v) in candidate_scores.items():\n",
    "            if i not in elim:\n",
    "                if first:\n",
    "                    least = i\n",
    "                    best = i\n",
    "                    first = False\n",
    "                elif candidate_scores[least] > v:\n",
    "                    least = i\n",
    "                elif candidate_scores[best] < v:\n",
    "                    best = i\n",
    "        # if majority, return as winner\n",
    "        if candidate_scores[best] > len(ballots)/2: return best\n",
    "        # otherwise eliminate lowest and continue\n",
    "        print(\"Eliminate \"+str(least))\n",
    "        elim.append(least)\n",
    "        "
   ]
  },
  {
   "cell_type": "code",
   "execution_count": null,
   "metadata": {},
   "outputs": [],
   "source": [
    "print(irv(ballots, ballots_size, 0))"
   ]
  },
  {
   "cell_type": "code",
   "execution_count": null,
   "metadata": {},
   "outputs": [],
   "source": [
    "def copeland(ballots, ballot_size=None, score_decay=1):\n",
    "    \n",
    "    candidate_scores = dict.fromkeys(range(1, candidate_count+1), dict.fromkeys(range(1, candidate_count+1), 0))\n",
    "    # get dic where [i][j] -> # times i beats j\n",
    "    for b in range(len(ballots)):\n",
    "        ballot = ballots[b][0]\n",
    "        count = ballots[b][1]\n",
    "        for i in range(candidate_count):\n",
    "            for j in range(i+1,candidate_count):\n",
    "                # ballot[i] beats all ballot[j]\n",
    "                if not ballots_size is None and ballots_size[b] < i:\n",
    "                    candidate_scores[ballot[i]][ballot[j]] += count * score_decay\n",
    "                else:\n",
    "                    candidate_scores[ballot[i]][ballot[j]] += count\n",
    "                \n",
    "    \n",
    "    \n",
    "    candidate_pairwise_wins = dict.fromkeys(range(1, candidate_count+1), 0)\n",
    "    \n",
    "    # loop through all pairwise matchups\n",
    "    for i in range(1, candidate_count+1):\n",
    "        for j in range(i+1, candidate_count+1):\n",
    "            if candidate_scores[i][j] > candidate_scores[j][i]:\n",
    "                # i beats j\n",
    "                candidate_pairwise_wins[i] += 1\n",
    "            else: \n",
    "                candidate_pairwise_wins[j] += 1\n",
    "                \n",
    "    \n",
    "    max = 1\n",
    "    # get candidate with most pairwise wins\n",
    "    for i in range(1, candidate_count+1):\n",
    "        if candidate_pairwise_wins[i] > candidate_pairwise_wins[max]:\n",
    "            max = i\n",
    "        print(str(i) + \" wins: \" + str(candidate_pairwise_wins[i]))\n",
    "    return max\n",
    "    \n",
    "    \n",
    "    "
   ]
  },
  {
   "cell_type": "code",
   "execution_count": null,
   "metadata": {},
   "outputs": [],
   "source": [
    "# Update decay with exopnential...\n",
    "print(copeland(ballots, ballots_size, 1))"
   ]
  },
  {
   "cell_type": "code",
   "execution_count": null,
   "metadata": {},
   "outputs": [],
   "source": [
    "# from numpy import random\n",
    "# import numpy as np\n",
    "def reduce_ballots(ballots, ballots_size, alpha, beta):\n",
    "    array = np.array(range(len(ballots)))\n",
    "    random.shuffle(array)\n",
    "    change_ballots = array.to_list()\n",
    "    alpha_cnt = int(len(ballots) * alpha)\n",
    "    for b in change_ballots[0:alpha_cnt]: # Change first alpha random ballots\n",
    "        # Can we get original data set???\n",
    "        # Assuming all ballots are complete...\n",
    "        step = 1\n",
    "        ballot = ballots[b][0]\n",
    "        count = ballots[b][1]\n",
    "        for i in range(candidate_count-1,0,-1):\n",
    "            r = random.uniform(0,1)\n",
    "            if r > beta^step:\n",
    "                ballot = ballot[:-1]\n",
    "                step += 1\n",
    "            else:\n",
    "                break\n",
    "        ballots[b] = [ballot,count]\n",
    "        ballots_size[b] = candidate_count - (step-1)\n",
    "        \n",
    "    return ballots, ballots_size\n",
    "        "
   ]
  }
 ],
 "metadata": {
  "kernelspec": {
   "display_name": "Python 3",
   "language": "python",
   "name": "python3"
  },
  "language_info": {
   "codemirror_mode": {
    "name": "ipython",
    "version": 3
   },
   "file_extension": ".py",
   "mimetype": "text/x-python",
   "name": "python",
   "nbconvert_exporter": "python",
   "pygments_lexer": "ipython3",
   "version": "3.8.3"
  }
 },
 "nbformat": 4,
 "nbformat_minor": 4
}
