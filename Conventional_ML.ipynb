{
 "cells": [
  {
   "cell_type": "code",
   "execution_count": 197,
   "metadata": {},
   "outputs": [],
   "source": [
    "import csv\n",
    "import random"
   ]
  },
  {
   "cell_type": "code",
   "execution_count": 198,
   "metadata": {},
   "outputs": [],
   "source": [
    "# candidate info\n",
    "candidate_count = 0\n",
    "candidates = []\n",
    "\n",
    "# ballot mete data\n",
    "total_voter_count = 0\n",
    "total_vote_count = 0\n",
    "unique_order_count = 0\n",
    "\n",
    "# ballot data\n",
    "# map a unique order of ballots to the total count of ballots in this order\n",
    " # format: tuple(first choice,second,third choice...): count\n",
    "ballots = {}\n",
    "\n",
    "with open(\"data/dublin-north.soi\", newline=\"\\n\") as data_file:\n",
    "    data = csv.reader(data_file)\n",
    "    i = 0\n",
    "    for row in data:\n",
    "        if i == 0:\n",
    "            candidate_count = int(row[0])\n",
    "        elif i <= candidate_count:\n",
    "            candidates.append(row[1])\n",
    "        elif i == candidate_count + 1:\n",
    "            total_voter_count = int(row[0])\n",
    "            total_vote_count = int(row[1])\n",
    "            unique_order_count = int(row[2])\n",
    "        else:\n",
    "            ballot = tuple(int(j) for j in row[1:])\n",
    "            ballots[ballot] = int(row[0])\n",
    "        i += 1"
   ]
  },
  {
   "cell_type": "code",
   "execution_count": 199,
   "metadata": {},
   "outputs": [],
   "source": [
    "# print(candidate_count)\n",
    "# for key in ballots.keys():\n",
    "#     print(key, ballots[key])\n",
    "#     print(len(key))\n",
    "# for ballot in ballots:\n",
    "#     print(ballot, ballots[ballot])"
   ]
  },
  {
   "cell_type": "code",
   "execution_count": 200,
   "metadata": {},
   "outputs": [],
   "source": [
    "# train model function"
   ]
  },
  {
   "cell_type": "code",
   "execution_count": 201,
   "metadata": {},
   "outputs": [],
   "source": [
    "# Return an order of ballot as a tuple\n",
    "def predict(ballots, target_ballot, model):\n",
    "    # finish this\n",
    "    \n",
    "    ##################### place holder ####################\n",
    "    temp = list(target_ballot)\n",
    "    temp.append(random.randint(1,12))\n",
    "    improved_target_ballot = tuple(temp)\n",
    "    #######################################################\n",
    "    \n",
    "    return improved_target_ballot"
   ]
  },
  {
   "cell_type": "code",
   "execution_count": 202,
   "metadata": {},
   "outputs": [],
   "source": [
    "# this code will modify the data in \"ballots\". Need to rerun above data reading code to restore\n",
    "# data in the dictionary.\n",
    "for i in range(1, candidate_count+1):\n",
    "    # train model for predicting the i+1 preference\n",
    "    model = None\n",
    "    \n",
    "    # update ballots with only i preference\n",
    "    keys = list(ballots.keys())\n",
    "    for ballot in keys:\n",
    "        if len(ballot) == i and ballots[ballot] != 0:\n",
    "            improved_ballot = predict(ballots, ballot, model)\n",
    "            if improved_ballot in ballots:\n",
    "                ballots[improved_ballot] += ballots[ballot]\n",
    "            else:\n",
    "                ballots[improved_ballot] = ballots[ballot]\n",
    "            del ballots[ballot]\n",
    "#             ballots[ballot] = 0 # set old count to 0, should then have no impact on final vote count\n",
    "# print(ballots)"
   ]
  },
  {
   "cell_type": "code",
   "execution_count": 203,
   "metadata": {},
   "outputs": [],
   "source": [
    "# Return a dictionary mapping candidate number to score.\n",
    "# Calculate candidate scores based on Borda's Rule.\n",
    "def borda_rule_result(ballots):\n",
    "    candidate_scores = dict.fromkeys(range(1, candidate_count+1), 0)\n",
    "#     print(candidate_scores)\n",
    "    for ballot in ballots:\n",
    "        count = ballots[ballot]\n",
    "        for i in range(candidate_count):\n",
    "            candidate_scores[ballot[i]] += (candidate_count - 1 - i) * count\n",
    "    return candidate_scores"
   ]
  },
  {
   "cell_type": "code",
   "execution_count": 204,
   "metadata": {},
   "outputs": [
    {
     "name": "stdout",
     "output_type": "stream",
     "text": [
      "{1: 204226, 2: 278355, 3: 160689, 4: 300808, 5: 176094, 6: 281005, 7: 257334, 8: 145494, 9: 320799, 10: 349792, 11: 124950, 12: 300626}\n"
     ]
    }
   ],
   "source": [
    "print(borda_rule_result(ballots))"
   ]
  },
  {
   "cell_type": "code",
   "execution_count": null,
   "metadata": {},
   "outputs": [],
   "source": []
  }
 ],
 "metadata": {
  "kernelspec": {
   "display_name": "Python 3",
   "language": "python",
   "name": "python3"
  },
  "language_info": {
   "codemirror_mode": {
    "name": "ipython",
    "version": 3
   },
   "file_extension": ".py",
   "mimetype": "text/x-python",
   "name": "python",
   "nbconvert_exporter": "python",
   "pygments_lexer": "ipython3",
   "version": "3.8.3"
  }
 },
 "nbformat": 4,
 "nbformat_minor": 4
}
